{
  "cells": [
    {
      "cell_type": "code",
      "execution_count": 3,
      "metadata": {
        "id": "YS5oweLl5iP7"
      },
      "outputs": [
        {
          "name": "stderr",
          "output_type": "stream",
          "text": [
            "2023-10-15 13:29:01.842269: E tensorflow/compiler/xla/stream_executor/cuda/cuda_dnn.cc:9342] Unable to register cuDNN factory: Attempting to register factory for plugin cuDNN when one has already been registered\n",
            "2023-10-15 13:29:01.842314: E tensorflow/compiler/xla/stream_executor/cuda/cuda_fft.cc:609] Unable to register cuFFT factory: Attempting to register factory for plugin cuFFT when one has already been registered\n",
            "2023-10-15 13:29:01.843423: E tensorflow/compiler/xla/stream_executor/cuda/cuda_blas.cc:1518] Unable to register cuBLAS factory: Attempting to register factory for plugin cuBLAS when one has already been registered\n",
            "2023-10-15 13:29:01.988625: I tensorflow/core/platform/cpu_feature_guard.cc:182] This TensorFlow binary is optimized to use available CPU instructions in performance-critical operations.\n",
            "To enable the following instructions: AVX2 FMA, in other operations, rebuild TensorFlow with the appropriate compiler flags.\n",
            "2023-10-15 13:29:08.874824: W tensorflow/compiler/tf2tensorrt/utils/py_utils.cc:38] TF-TRT Warning: Could not find TensorRT\n"
          ]
        }
      ],
      "source": [
        "import tensorflow as tf\n",
        "import pandas as pd\n",
        "import requests\n",
        "import json\n",
        "import base64"
      ]
    },
    {
      "cell_type": "code",
      "execution_count": 4,
      "metadata": {
        "id": "2TISw7Ik5lnO"
      },
      "outputs": [],
      "source": [
        "df   = pd.read_csv('datasets/disaster.csv')\n",
        "text = df['text'][2]"
      ]
    },
    {
      "cell_type": "code",
      "execution_count": 5,
      "metadata": {
        "id": "XD_22v7h5rSd"
      },
      "outputs": [],
      "source": [
        "def prepare_json(text):\n",
        "    feature_spec = {\n",
        "        'text': tf.train.Feature(bytes_list=tf.train.BytesList(value=[bytes(text, 'utf-8')]))\n",
        "    }\n",
        "\n",
        "    example = tf.train.Example(\n",
        "        features=tf.train.Features(feature=feature_spec)\n",
        "    ).SerializeToString()\n",
        "\n",
        "    result = [{\n",
        "        'examples': {\n",
        "            'b64': base64.b64encode(example).decode()\n",
        "        }\n",
        "    }]\n",
        "\n",
        "    return json.dumps({\n",
        "        'signature_name': 'serving_default',\n",
        "        'instances': result\n",
        "    })"
      ]
    },
    {
      "cell_type": "code",
      "execution_count": 6,
      "metadata": {
        "id": "ENe_y4Ok5ti4"
      },
      "outputs": [],
      "source": [
        "def predict(text):\n",
        "    response = requests.post(\n",
        "        'http://localhost:8080/v1/models/disaster-tweets:predict',\n",
        "        data = prepare_json(text)\n",
        "    )\n",
        "\n",
        "    predict = response.json()['predictions'][0][0]\n",
        "    return predict"
      ]
    },
    {
      "cell_type": "code",
      "execution_count": 7,
      "metadata": {
        "id": "rLFMUuiA5vkq"
      },
      "outputs": [
        {
          "name": "stdout",
          "output_type": "stream",
          "text": [
            "All residents asked to  ' shelter in place '  are being notified by officers .  No other evacuation or shelter in place orders are expected\n",
            "\n",
            "Tweet Asli (0.856196046)\n"
          ]
        }
      ],
      "source": [
        "predict = predict(text)\n",
        "\n",
        "print(f'{text}\\n')\n",
        "print(f'Tweet Asli ({predict})' if predict > 0.6 else f'Tweet Palsu ({predict})')"
      ]
    },
    {
      "cell_type": "code",
      "execution_count": null,
      "metadata": {},
      "outputs": [],
      "source": []
    }
  ],
  "metadata": {
    "colab": {
      "provenance": []
    },
    "kernelspec": {
      "display_name": "Python 3",
      "name": "python3"
    },
    "language_info": {
      "codemirror_mode": {
        "name": "ipython",
        "version": 3
      },
      "file_extension": ".py",
      "mimetype": "text/x-python",
      "name": "python",
      "nbconvert_exporter": "python",
      "pygments_lexer": "ipython3",
      "version": "3.9.2"
    }
  },
  "nbformat": 4,
  "nbformat_minor": 0
}

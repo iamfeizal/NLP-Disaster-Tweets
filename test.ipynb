{
  "nbformat": 4,
  "nbformat_minor": 0,
  "metadata": {
    "colab": {
      "provenance": []
    },
    "kernelspec": {
      "name": "python3",
      "display_name": "Python 3"
    },
    "language_info": {
      "name": "python"
    }
  },
  "cells": [
    {
      "cell_type": "code",
      "execution_count": null,
      "metadata": {
        "id": "YS5oweLl5iP7"
      },
      "outputs": [],
      "source": [
        "import tensorflow as tf\n",
        "import pandas as pd\n",
        "import requests\n",
        "import json\n",
        "import base64"
      ]
    },
    {
      "cell_type": "code",
      "source": [
        "df   = pd.read_csv('dataset/disaster.csv')\n",
        "text = df['text'][2]"
      ],
      "metadata": {
        "id": "2TISw7Ik5lnO"
      },
      "execution_count": null,
      "outputs": []
    },
    {
      "cell_type": "code",
      "source": [
        "def prepare_json(text):\n",
        "    feature_spec = {\n",
        "        'text': tf.train.Feature(bytes_list=tf.train.BytesList(value=[bytes(text, 'utf-8')]))\n",
        "    }\n",
        "\n",
        "    example = tf.train.Example(\n",
        "        features=tf.train.Features(feature=feature_spec)\n",
        "    ).SerializeToString()\n",
        "\n",
        "    result = [{\n",
        "        'examples': {\n",
        "            'b64': base64.b64encode(example).decode()\n",
        "        }\n",
        "    }]\n",
        "\n",
        "    return json.dumps({\n",
        "        'signature_name': 'serving_default',\n",
        "        'instances': result\n",
        "    })"
      ],
      "metadata": {
        "id": "XD_22v7h5rSd"
      },
      "execution_count": null,
      "outputs": []
    },
    {
      "cell_type": "code",
      "source": [
        "def predict(text):\n",
        "    response = requests.post(\n",
        "        'http://localhost:8080/v1/models/disaster-tweets:predict',\n",
        "        data = prepare_json(text)\n",
        "    )\n",
        "\n",
        "    predict = response.json()['predictions'][0][0]\n",
        "    return predict"
      ],
      "metadata": {
        "id": "ENe_y4Ok5ti4"
      },
      "execution_count": null,
      "outputs": []
    },
    {
      "cell_type": "code",
      "source": [
        "predict = predict(text)\n",
        "\n",
        "print(f'{text}\\n')\n",
        "print(f'Tweet Asli ({predict})' if predict > 0.6 else f'Tweet Palsu ({predict})')"
      ],
      "metadata": {
        "id": "rLFMUuiA5vkq"
      },
      "execution_count": null,
      "outputs": []
    }
  ]
}